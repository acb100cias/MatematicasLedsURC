{
  "nbformat": 4,
  "nbformat_minor": 0,
  "metadata": {
    "colab": {
      "private_outputs": true,
      "provenance": [],
      "authorship_tag": "ABX9TyOXgub6bAjtcLAoeSHYA8NN",
      "include_colab_link": true
    },
    "kernelspec": {
      "name": "python3",
      "display_name": "Python 3"
    },
    "language_info": {
      "name": "python"
    }
  },
  "cells": [
    {
      "cell_type": "markdown",
      "metadata": {
        "id": "view-in-github",
        "colab_type": "text"
      },
      "source": [
        "<a href=\"https://colab.research.google.com/github/acb100cias/MatematicasLedsURC/blob/main/ClaseMatematicas204_25_04.ipynb\" target=\"_parent\"><img src=\"https://colab.research.google.com/assets/colab-badge.svg\" alt=\"Open In Colab\"/></a>"
      ]
    },
    {
      "cell_type": "code",
      "execution_count": null,
      "metadata": {
        "id": "0WLUs9qUZl2l"
      },
      "outputs": [],
      "source": [
        "from math import *"
      ]
    },
    {
      "cell_type": "code",
      "source": [
        "sqrt(201398147)**2"
      ],
      "metadata": {
        "id": "-HjYVXcbfKLr"
      },
      "execution_count": null,
      "outputs": []
    },
    {
      "cell_type": "code",
      "source": [
        "sin(pi)"
      ],
      "metadata": {
        "id": "pC1zqLc-fR4o"
      },
      "execution_count": null,
      "outputs": []
    },
    {
      "cell_type": "code",
      "source": [
        "cos(pi)"
      ],
      "metadata": {
        "id": "YHnmYJPEfbn1"
      },
      "execution_count": null,
      "outputs": []
    },
    {
      "cell_type": "code",
      "source": [
        "def p1(x):\n",
        "  return x**3-9*x**2-24*x"
      ],
      "metadata": {
        "id": "iH_9GYz9fgwn"
      },
      "execution_count": null,
      "outputs": []
    },
    {
      "cell_type": "code",
      "source": [
        "p1(5)"
      ],
      "metadata": {
        "id": "1A_1m2kRgDdp"
      },
      "execution_count": null,
      "outputs": []
    },
    {
      "cell_type": "code",
      "source": [
        "list(range(200))"
      ],
      "metadata": {
        "id": "VjhwDWeMgGm4"
      },
      "execution_count": null,
      "outputs": []
    },
    {
      "cell_type": "code",
      "source": [
        "lista=[]\n",
        "for i in range(200):\n",
        "  lista.append(p1(i))"
      ],
      "metadata": {
        "id": "k_YGRQVsgdDZ"
      },
      "execution_count": null,
      "outputs": []
    },
    {
      "cell_type": "code",
      "source": [
        "lista"
      ],
      "metadata": {
        "id": "oIojUt3ChDOo"
      },
      "execution_count": null,
      "outputs": []
    },
    {
      "cell_type": "code",
      "source": [
        "from matplotlib.pyplot import *"
      ],
      "metadata": {
        "id": "bmBY6CFqhFs4"
      },
      "execution_count": null,
      "outputs": []
    },
    {
      "cell_type": "code",
      "source": [
        "plot(list(range(200)),lista,'.')"
      ],
      "metadata": {
        "id": "UdjsjFwHhO5Y"
      },
      "execution_count": null,
      "outputs": []
    },
    {
      "cell_type": "code",
      "source": [
        "from numpy import *"
      ],
      "metadata": {
        "id": "uLLrySQXihLI"
      },
      "execution_count": null,
      "outputs": []
    },
    {
      "cell_type": "code",
      "source": [
        "X=arange(-50,50,0.01)"
      ],
      "metadata": {
        "id": "wi-ig7oZjTOn"
      },
      "execution_count": null,
      "outputs": []
    },
    {
      "cell_type": "code",
      "source": [
        "p1(X)"
      ],
      "metadata": {
        "id": "O1JbZ0ZdjZq6"
      },
      "execution_count": null,
      "outputs": []
    },
    {
      "cell_type": "code",
      "source": [
        "plot(X,p1(X))"
      ],
      "metadata": {
        "id": "ScP7AfYDjvSm"
      },
      "execution_count": null,
      "outputs": []
    },
    {
      "cell_type": "code",
      "source": [
        "def f(x):\n",
        "  return x/abs(x)"
      ],
      "metadata": {
        "id": "ZqCqijEejyY1"
      },
      "execution_count": null,
      "outputs": []
    },
    {
      "cell_type": "code",
      "source": [
        "f(X)"
      ],
      "metadata": {
        "id": "qywgpH45kZv2"
      },
      "execution_count": null,
      "outputs": []
    },
    {
      "cell_type": "code",
      "source": [
        "plot(X,f(X),'.')"
      ],
      "metadata": {
        "id": "aI_a2R2hklzm"
      },
      "execution_count": null,
      "outputs": []
    },
    {
      "cell_type": "code",
      "source": [
        "def c(x):\n",
        "  return 0.1/x**2"
      ],
      "metadata": {
        "id": "Ubc01NMOkoeG"
      },
      "execution_count": null,
      "outputs": []
    },
    {
      "cell_type": "code",
      "source": [
        "X1=arange(0,0.05,0.001)"
      ],
      "metadata": {
        "id": "QTkZcQ3IllSm"
      },
      "execution_count": null,
      "outputs": []
    },
    {
      "cell_type": "code",
      "source": [
        "plot(X1,c(X1))"
      ],
      "metadata": {
        "id": "WdJ3bmQ-lvbG"
      },
      "execution_count": null,
      "outputs": []
    },
    {
      "cell_type": "code",
      "source": [
        "plot(X,c(X))"
      ],
      "metadata": {
        "id": "_xxyRxcslzaG"
      },
      "execution_count": null,
      "outputs": []
    },
    {
      "cell_type": "code",
      "source": [
        "1/60**2"
      ],
      "metadata": {
        "id": "tKnC3ljwmYDl"
      },
      "execution_count": null,
      "outputs": []
    },
    {
      "cell_type": "code",
      "source": [
        "from sympy import *"
      ],
      "metadata": {
        "id": "BbLIJqoqmid1"
      },
      "execution_count": null,
      "outputs": []
    },
    {
      "cell_type": "code",
      "source": [
        "x=Symbol('x')"
      ],
      "metadata": {
        "id": "hGT1nru6m0ov"
      },
      "execution_count": null,
      "outputs": []
    },
    {
      "cell_type": "code",
      "source": [
        "p1(x)"
      ],
      "metadata": {
        "id": "YEswAgVWpLLE"
      },
      "execution_count": null,
      "outputs": []
    },
    {
      "cell_type": "code",
      "source": [
        "plot(p1(x),(x,-2.5,2.5))"
      ],
      "metadata": {
        "id": "EJfEkUedpOEE"
      },
      "execution_count": null,
      "outputs": []
    },
    {
      "cell_type": "code",
      "source": [
        "plot(1/x)"
      ],
      "metadata": {
        "id": "x5sfaMalpT8E"
      },
      "execution_count": null,
      "outputs": []
    },
    {
      "cell_type": "code",
      "source": [
        "import matplotlib.pyplot as plt\n",
        "X=arange(0,2,0.1)\n",
        "X2=arange(-2,0,0.1)\n"
      ],
      "metadata": {
        "id": "-Lz_ZX7BpkOj"
      },
      "execution_count": null,
      "outputs": []
    },
    {
      "cell_type": "code",
      "source": [
        "plt.plot(X,1/X)\n",
        "plt.plot(X2,1/X2)"
      ],
      "metadata": {
        "id": "GZIb_-YfpsyU"
      },
      "execution_count": null,
      "outputs": []
    },
    {
      "cell_type": "code",
      "source": [
        "p1(x)"
      ],
      "metadata": {
        "id": "-IKL5p68pyfz"
      },
      "execution_count": null,
      "outputs": []
    },
    {
      "cell_type": "code",
      "source": [
        "diff(p1(x))"
      ],
      "metadata": {
        "id": "IsdnwN-YrrDD"
      },
      "execution_count": null,
      "outputs": []
    },
    {
      "cell_type": "code",
      "source": [
        "plot(diff(x**4-5*x-1/x))"
      ],
      "metadata": {
        "id": "d78jT2VTruxT"
      },
      "execution_count": null,
      "outputs": []
    },
    {
      "cell_type": "code",
      "source": [
        "plot(x/abs(x))"
      ],
      "metadata": {
        "id": "6Rlr3hOlr580"
      },
      "execution_count": null,
      "outputs": []
    },
    {
      "cell_type": "code",
      "source": [
        "diff(x/abs(x))"
      ],
      "metadata": {
        "id": "z4_bZuy6sDCT"
      },
      "execution_count": null,
      "outputs": []
    },
    {
      "cell_type": "code",
      "source": [
        "diff(exp(x))"
      ],
      "metadata": {
        "id": "uGC_t78EsI2D"
      },
      "execution_count": null,
      "outputs": []
    },
    {
      "cell_type": "code",
      "source": [
        "diff(log(x))"
      ],
      "metadata": {
        "id": "I3hgdS_JsWHS"
      },
      "execution_count": null,
      "outputs": []
    },
    {
      "cell_type": "code",
      "source": [
        "diff(sin(x))"
      ],
      "metadata": {
        "id": "bXd0Oie5sZwy"
      },
      "execution_count": null,
      "outputs": []
    },
    {
      "cell_type": "code",
      "source": [
        "diff(cos(x))"
      ],
      "metadata": {
        "id": "o7-gVUUUsb4i"
      },
      "execution_count": null,
      "outputs": []
    },
    {
      "cell_type": "code",
      "source": [],
      "metadata": {
        "id": "-DkzWTpJse4h"
      },
      "execution_count": null,
      "outputs": []
    }
  ]
}