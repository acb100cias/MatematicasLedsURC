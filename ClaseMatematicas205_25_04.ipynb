{
  "nbformat": 4,
  "nbformat_minor": 0,
  "metadata": {
    "colab": {
      "private_outputs": true,
      "provenance": [],
      "authorship_tag": "ABX9TyMHnMy78wWuvb+bm8Drr3vj",
      "include_colab_link": true
    },
    "kernelspec": {
      "name": "python3",
      "display_name": "Python 3"
    },
    "language_info": {
      "name": "python"
    }
  },
  "cells": [
    {
      "cell_type": "markdown",
      "metadata": {
        "id": "view-in-github",
        "colab_type": "text"
      },
      "source": [
        "<a href=\"https://colab.research.google.com/github/acb100cias/MatematicasLedsURC/blob/main/ClaseMatematicas205_25_04.ipynb\" target=\"_parent\"><img src=\"https://colab.research.google.com/assets/colab-badge.svg\" alt=\"Open In Colab\"/></a>"
      ]
    },
    {
      "cell_type": "code",
      "execution_count": null,
      "metadata": {
        "id": "h0f_XZTtHWY5"
      },
      "outputs": [],
      "source": [
        "from math import *"
      ]
    },
    {
      "cell_type": "code",
      "source": [
        "pi"
      ],
      "metadata": {
        "id": "VE48fT2vHw2N"
      },
      "execution_count": null,
      "outputs": []
    },
    {
      "cell_type": "code",
      "source": [
        "e"
      ],
      "metadata": {
        "id": "7jhK3muIH2eF"
      },
      "execution_count": null,
      "outputs": []
    },
    {
      "cell_type": "code",
      "source": [
        "sin(2*pi)"
      ],
      "metadata": {
        "id": "gt8g4M0fH3QV"
      },
      "execution_count": null,
      "outputs": []
    },
    {
      "cell_type": "code",
      "source": [
        "sqrt(282392943782)**2"
      ],
      "metadata": {
        "id": "U4fNGS7qH371"
      },
      "execution_count": null,
      "outputs": []
    },
    {
      "cell_type": "code",
      "source": [
        "def p1(x):\n",
        "  return x**4-x**3+12*x**2+24"
      ],
      "metadata": {
        "id": "nxyx0Cp5IKV0"
      },
      "execution_count": null,
      "outputs": []
    },
    {
      "cell_type": "code",
      "source": [
        "p1(0)"
      ],
      "metadata": {
        "id": "ohrR0AyyJBJg"
      },
      "execution_count": null,
      "outputs": []
    },
    {
      "cell_type": "code",
      "source": [
        "p1(1)"
      ],
      "metadata": {
        "id": "66t8o1CBJFlV"
      },
      "execution_count": null,
      "outputs": []
    },
    {
      "cell_type": "code",
      "source": [
        "p1(2)"
      ],
      "metadata": {
        "id": "IkE5qDmiJHNU"
      },
      "execution_count": null,
      "outputs": []
    },
    {
      "cell_type": "code",
      "source": [
        "lista=[]"
      ],
      "metadata": {
        "id": "Na77MVARJJD0"
      },
      "execution_count": null,
      "outputs": []
    },
    {
      "cell_type": "code",
      "source": [
        "for i in range(200):\n",
        "  lista.append(p1(i))"
      ],
      "metadata": {
        "id": "DV-XPwWpKBWE"
      },
      "execution_count": null,
      "outputs": []
    },
    {
      "cell_type": "code",
      "source": [
        "lista"
      ],
      "metadata": {
        "id": "Aax8PmhvKHt0"
      },
      "execution_count": null,
      "outputs": []
    },
    {
      "cell_type": "code",
      "source": [
        "import matplotlib.pyplot as grafica"
      ],
      "metadata": {
        "id": "qhIxINF0Ki4U"
      },
      "execution_count": null,
      "outputs": []
    },
    {
      "cell_type": "code",
      "source": [
        "grafica.plot(lista,'.' )"
      ],
      "metadata": {
        "id": "Q9AYGYucK1OU"
      },
      "execution_count": null,
      "outputs": []
    },
    {
      "cell_type": "code",
      "source": [
        "from numpy import *"
      ],
      "metadata": {
        "id": "gHs-ENqCK3RE"
      },
      "execution_count": null,
      "outputs": []
    },
    {
      "cell_type": "code",
      "source": [
        "X=arange(-10,10,0.01)"
      ],
      "metadata": {
        "id": "qTEpsc9sMLmW"
      },
      "execution_count": null,
      "outputs": []
    },
    {
      "cell_type": "code",
      "source": [
        "grafica.plot(X,p1(X))"
      ],
      "metadata": {
        "id": "3phfyGEoLYGN"
      },
      "execution_count": null,
      "outputs": []
    },
    {
      "cell_type": "code",
      "source": [
        "def pobLogistica(x,r,K):\n",
        "  return r*x*(1-x/K)"
      ],
      "metadata": {
        "id": "GxS3rv7cLfmj"
      },
      "execution_count": null,
      "outputs": []
    },
    {
      "cell_type": "code",
      "source": [
        "pobLogistica(200,0.1,220)"
      ],
      "metadata": {
        "id": "zRAsIERwNNNT"
      },
      "execution_count": null,
      "outputs": []
    },
    {
      "cell_type": "code",
      "source": [
        "X1=arange(0,1,0.001)"
      ],
      "metadata": {
        "id": "we-GToikNQPl"
      },
      "execution_count": null,
      "outputs": []
    },
    {
      "cell_type": "code",
      "source": [
        "grafica.plot(X1,pobLogistica(X1,1,1))"
      ],
      "metadata": {
        "id": "Ff6I0UUrNmXz"
      },
      "execution_count": null,
      "outputs": []
    },
    {
      "cell_type": "code",
      "source": [
        "def C(x):\n",
        "  return 0.0001/x"
      ],
      "metadata": {
        "id": "rKCt-yxwNtmS"
      },
      "execution_count": null,
      "outputs": []
    },
    {
      "cell_type": "code",
      "source": [
        "grafica.plot(X1,C(X1))"
      ],
      "metadata": {
        "id": "yJMs0JCgOySy"
      },
      "execution_count": null,
      "outputs": []
    },
    {
      "cell_type": "code",
      "source": [
        "from sympy import *"
      ],
      "metadata": {
        "id": "UuhWtQ1OPg4x"
      },
      "execution_count": null,
      "outputs": []
    },
    {
      "cell_type": "code",
      "source": [
        "x=Symbol('x')"
      ],
      "metadata": {
        "id": "eonUzdW9Qwoh"
      },
      "execution_count": null,
      "outputs": []
    },
    {
      "cell_type": "code",
      "source": [
        "p1(x)"
      ],
      "metadata": {
        "id": "CrjqwE48Q48R"
      },
      "execution_count": null,
      "outputs": []
    },
    {
      "cell_type": "code",
      "source": [
        "plot(p1(x))"
      ],
      "metadata": {
        "id": "WJubMxejQ7lQ"
      },
      "execution_count": null,
      "outputs": []
    },
    {
      "cell_type": "code",
      "source": [
        "plot(log(x),0,20)"
      ],
      "metadata": {
        "id": "PwEFddpbRAVQ"
      },
      "execution_count": null,
      "outputs": []
    },
    {
      "cell_type": "code",
      "source": [
        "plot(log(x),exp(x))"
      ],
      "metadata": {
        "id": "JNfjTRr-RPtB"
      },
      "execution_count": null,
      "outputs": []
    },
    {
      "cell_type": "code",
      "source": [
        "plot(sin(x))"
      ],
      "metadata": {
        "id": "sulyv5MDRsI-"
      },
      "execution_count": null,
      "outputs": []
    },
    {
      "cell_type": "code",
      "source": [
        "plot(cos(x),sin(x))"
      ],
      "metadata": {
        "id": "cGPI0WwlR2uT"
      },
      "execution_count": null,
      "outputs": []
    },
    {
      "cell_type": "code",
      "source": [
        "plot(C(x))"
      ],
      "metadata": {
        "id": "mdOITspmR5Qg"
      },
      "execution_count": null,
      "outputs": []
    },
    {
      "cell_type": "code",
      "source": [
        "plot(1/x,(x,-0.5,0.5))"
      ],
      "metadata": {
        "id": "k4klnYa7R_Dw"
      },
      "execution_count": null,
      "outputs": []
    },
    {
      "cell_type": "code",
      "source": [
        "abs(x)"
      ],
      "metadata": {
        "id": "nJAWIIyMSPjQ"
      },
      "execution_count": null,
      "outputs": []
    },
    {
      "cell_type": "code",
      "source": [
        "plot(x/abs(x))"
      ],
      "metadata": {
        "id": "M350fI0tSvMP"
      },
      "execution_count": null,
      "outputs": []
    },
    {
      "cell_type": "code",
      "source": [
        "def p2(x):\n",
        "  return x**2-2*x-1"
      ],
      "metadata": {
        "id": "cEd8fXY8SyZA"
      },
      "execution_count": null,
      "outputs": []
    },
    {
      "cell_type": "code",
      "source": [
        "p2(x)"
      ],
      "metadata": {
        "id": "Xfbj-xRxTHxv"
      },
      "execution_count": null,
      "outputs": []
    },
    {
      "cell_type": "code",
      "source": [
        "plot(p2(x))"
      ],
      "metadata": {
        "id": "gAALYTHETJb_"
      },
      "execution_count": null,
      "outputs": []
    },
    {
      "cell_type": "code",
      "source": [
        "plot(p1(x)/p2(x))"
      ],
      "metadata": {
        "id": "ZUxlXeb0TLh_"
      },
      "execution_count": null,
      "outputs": []
    },
    {
      "cell_type": "code",
      "source": [
        "p1(x)"
      ],
      "metadata": {
        "id": "9TVH5s0ATR_P"
      },
      "execution_count": null,
      "outputs": []
    },
    {
      "cell_type": "code",
      "source": [
        "plot(diff(p1(x),x),p1(x))"
      ],
      "metadata": {
        "id": "jIwneK3iTrMv"
      },
      "execution_count": null,
      "outputs": []
    },
    {
      "cell_type": "code",
      "source": [],
      "metadata": {
        "id": "u1XTanOsTuXP"
      },
      "execution_count": null,
      "outputs": []
    },
    {
      "cell_type": "code",
      "source": [],
      "metadata": {
        "id": "wzJbQR0QUXC_"
      },
      "execution_count": null,
      "outputs": []
    }
  ]
}